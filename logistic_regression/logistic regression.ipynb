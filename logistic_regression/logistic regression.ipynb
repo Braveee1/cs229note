{
 "cells": [
  {
   "attachments": {
    "logistic_regression.PNG": {
     "image/png": "[encoded data removed]"
    }
   },
   "cell_type": "markdown",
   "metadata": {},
   "source": [
    "逻辑回归：0 和 1\n",
    "\n",
    "![logistic_regression.PNG](attachment:logistic_regression.PNG)\n",
    "\n",
    "n ： 为特征数（784）\n",
    "m ： 为训练的样本数"
   ]
  },
  {
   "cell_type": "markdown",
   "metadata": {},
   "source": [
    "具体过程：\n",
    "1. 选取预测函数hypothesis\n",
    "2. 构造损失函数\n",
    "3. 梯度下降法求最小值"
   ]
  },
  {
   "cell_type": "markdown",
   "metadata": {},
   "source": [
    "利用Logistic函数（或称为Sigmoid函数）\n",
    "\n",
    "sigmoid函数的两个实现"
   ]
  },
  {
   "cell_type": "code",
   "execution_count": 36,
   "metadata": {},
   "outputs": [
    {
     "data": {
      "text/plain": [
       "784"
      ]
     },
     "execution_count": 36,
     "metadata": {},
     "output_type": "execute_result"
    }
   ],
   "source": [
    "import numpy as np\n",
    "import math\n",
    "import time\n",
    "images_x = np.ndfromtxt('./images.csv', delimiter=',')\n",
    "labels_y = np.ndfromtxt(\"./labels.csv\", delimiter=',', dtype=np.int8)\n",
    "img_size = images_x.shape[1]\n",
    "img_size"
   ]
  },
  {
   "cell_type": "code",
   "execution_count": 43,
   "metadata": {},
   "outputs": [
    {
     "name": "stdout",
     "output_type": "stream",
     "text": [
      "[1 0 1 ... 1 0 1]\n"
     ]
    }
   ],
   "source": [
    "# 过滤 0和1 并分离数据\n",
    "# 准备好测试数据和训练数据\n",
    "ind = np.logical_or(labels_y == 1, labels_y == 0)\n",
    "images_x = images_x[ind, :]\n",
    "labels_y = labels_y[ind]\n",
    "num_train = int(len(labels_y) * 0.8)\n",
    "print(y)\n",
    "x_train = images_x[0:num_train, :]\n",
    "x_test = images_x[num_train:-1,:]\n",
    "y_train = labels_y[0:num_train]\n",
    "y_test = labels_y[num_train:-1]"
   ]
  },
  {
   "cell_type": "code",
   "execution_count": 44,
   "metadata": {},
   "outputs": [],
   "source": [
    "# 不使用numpy函数的版本sigmoid函数:\n",
    "def h1(theta, x):\n",
    "    sum = 0.0\n",
    "    for i in range(len(x)):\n",
    "        sum -= theta[i] * x[i]\n",
    "        return 1 / (1 + math.exp(sum))\n",
    "    \n",
    "# 使用numpy函数\n",
    "def h2(theta, x):\n",
    "    return 1 / (1 + np.exp(np.dot(theta, x)))"
   ]
  },
  {
   "cell_type": "code",
   "execution_count": 45,
   "metadata": {},
   "outputs": [
    {
     "data": {
      "text/plain": [
       "<function __main__.h1(theta, x)>"
      ]
     },
     "execution_count": 45,
     "metadata": {},
     "output_type": "execute_result"
    }
   ],
   "source": [
    "# 测试两个函数\n",
    "theta = np.zeros([img_size])\n",
    "x = images_x[0,:]\n",
    "h1(theta, x)\n",
    "h2(theta, x)\n",
    "h1"
   ]
  },
  {
   "cell_type": "code",
   "execution_count": 20,
   "metadata": {},
   "outputs": [
    {
     "ename": "IndexError",
     "evalue": "boolean index did not match indexed array along dimension 0; dimension is 2115 but corresponding boolean dimension is 10000",
     "output_type": "error",
     "traceback": [
      "\u001b[1;31m---------------------------------------------------------------------------\u001b[0m",
      "\u001b[1;31mIndexError\u001b[0m                                Traceback (most recent call last)",
      "\u001b[1;32m<ipython-input-20-b04637b22f69>\u001b[0m in \u001b[0;36m<module>\u001b[1;34m()\u001b[0m\n\u001b[0;32m      2\u001b[0m \u001b[0mind\u001b[0m \u001b[1;33m=\u001b[0m \u001b[0mnp\u001b[0m\u001b[1;33m.\u001b[0m\u001b[0mlogical_or\u001b[0m\u001b[1;33m(\u001b[0m\u001b[0my\u001b[0m \u001b[1;33m==\u001b[0m \u001b[1;36m1\u001b[0m\u001b[1;33m,\u001b[0m \u001b[0my\u001b[0m \u001b[1;33m==\u001b[0m \u001b[1;36m0\u001b[0m\u001b[1;33m)\u001b[0m\u001b[1;33m\u001b[0m\u001b[0m\n\u001b[0;32m      3\u001b[0m \u001b[0mind\u001b[0m\u001b[1;33m\u001b[0m\u001b[0m\n\u001b[1;32m----> 4\u001b[1;33m \u001b[0mX\u001b[0m \u001b[1;33m=\u001b[0m \u001b[0mX\u001b[0m\u001b[1;33m[\u001b[0m\u001b[0mind\u001b[0m\u001b[1;33m,\u001b[0m \u001b[1;33m:\u001b[0m\u001b[1;33m]\u001b[0m\u001b[1;33m\u001b[0m\u001b[0m\n\u001b[0m\u001b[0;32m      5\u001b[0m \u001b[1;31m#W = [1, 2, 3, 4, 5, 6]\u001b[0m\u001b[1;33m\u001b[0m\u001b[1;33m\u001b[0m\u001b[0m\n\u001b[0;32m      6\u001b[0m \u001b[1;31m#a = W[[2,3,4], :]\u001b[0m\u001b[1;33m\u001b[0m\u001b[1;33m\u001b[0m\u001b[0m\n",
      "\u001b[1;31mIndexError\u001b[0m: boolean index did not match indexed array along dimension 0; dimension is 2115 but corresponding boolean dimension is 10000"
     ]
    }
   ],
   "source": []
  }
 ],
 "metadata": {
  "kernelspec": {
   "display_name": "Python 3",
   "language": "python",
   "name": "python3"
  },
  "language_info": {
   "codemirror_mode": {
    "name": "ipython",
    "version": 3
   },
   "file_extension": ".py",
   "mimetype": "text/x-python",
   "name": "python",
   "nbconvert_exporter": "python",
   "pygments_lexer": "ipython3",
   "version": "3.5.5"
  }
 },
 "nbformat": 4,
 "nbformat_minor": 2
}
